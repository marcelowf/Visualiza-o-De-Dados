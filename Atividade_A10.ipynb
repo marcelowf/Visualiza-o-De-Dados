{
  "nbformat": 4,
  "nbformat_minor": 0,
  "metadata": {
    "colab": {
      "provenance": []
    },
    "kernelspec": {
      "name": "python3",
      "display_name": "Python 3"
    },
    "language_info": {
      "name": "python"
    }
  },
  "cells": [
    {
      "cell_type": "code",
      "execution_count": null,
      "metadata": {
        "id": "K8g-QFxQz7tl"
      },
      "outputs": [],
      "source": [
        "from google.colab import files\n",
        "\n",
        "uploaded = files.upload()\n",
        "\n",
        "for fn in uploaded.keys():\n",
        "  print('User uploaded file \"{name}\" with length {length} bytes'.format(\n",
        "      name=fn, length=len(uploaded[fn])))"
      ]
    },
    {
      "cell_type": "code",
      "source": [
        "import numpy as np\n",
        "import pandas as pd\n",
        "import matplotlib.pyplot as plt"
      ],
      "metadata": {
        "id": "F7LeXyXE0uRX"
      },
      "execution_count": 8,
      "outputs": []
    },
    {
      "cell_type": "code",
      "source": [
        "df = pd.read_csv(\"Dados.csv\")\n",
        "print(df.head())"
      ],
      "metadata": {
        "id": "lFEgA6cW0wsc"
      },
      "execution_count": null,
      "outputs": []
    },
    {
      "cell_type": "code",
      "source": [
        "# Gráfico em linha\n",
        "plt.figure(figsize=(10, 6))\n",
        "plt.plot(df['price'])\n",
        "plt.title('Gráfico em Linha - Preço dos Carros')\n",
        "plt.xlabel('Índice do Carro')\n",
        "plt.ylabel('Preço')\n",
        "plt.show()"
      ],
      "metadata": {
        "id": "CSaoCtQL0x38"
      },
      "execution_count": null,
      "outputs": []
    },
    {
      "cell_type": "code",
      "source": [
        "# Gráfico de área\n",
        "plt.figure(figsize=(10, 6))\n",
        "plt.fill_between(df.index, df['city-mpg'], color=\"skyblue\", alpha=0.4)\n",
        "plt.title('Gráfico de Área - Consumo na Cidade dos Carros')\n",
        "plt.xlabel('Índice do Carro')\n",
        "plt.ylabel('Consumo na Cidade (mpg)')\n",
        "plt.show()"
      ],
      "metadata": {
        "id": "8p1B6dBv0zDr"
      },
      "execution_count": null,
      "outputs": []
    },
    {
      "cell_type": "code",
      "source": [
        "# Gráfico de barras\n",
        "plt.figure(figsize=(10, 6))\n",
        "df['make'].value_counts().plot(kind='bar')\n",
        "plt.title('Gráfico de Barras - Distribuição das Marcas de Carros')\n",
        "plt.xlabel('Marca')\n",
        "plt.ylabel('Número de Carros')\n",
        "plt.show()"
      ],
      "metadata": {
        "id": "3AsxLJjO00bh"
      },
      "execution_count": null,
      "outputs": []
    },
    {
      "cell_type": "code",
      "source": [
        "# Gráfico de barras horizontais\n",
        "plt.figure(figsize=(10, 6))\n",
        "df['make'].value_counts().plot(kind='barh')\n",
        "plt.title('Gráfico de Barras Horizontais - Distribuição das Marcas de Carros')\n",
        "plt.xlabel('Número de Carros')\n",
        "plt.ylabel('Marca')\n",
        "plt.show()"
      ],
      "metadata": {
        "id": "-WWnOhhA01g3"
      },
      "execution_count": null,
      "outputs": []
    },
    {
      "cell_type": "code",
      "source": [
        "# Histograma\n",
        "plt.figure(figsize=(10, 6))\n",
        "plt.hist(df['horsepower'], bins=20, color='skyblue', edgecolor='black')\n",
        "plt.title('Histograma - Potência dos Motores dos Carros')\n",
        "plt.xlabel('Potência (HP)')\n",
        "plt.ylabel('Frequência')\n",
        "plt.show()"
      ],
      "metadata": {
        "id": "2H3ry9sB02m6"
      },
      "execution_count": null,
      "outputs": []
    },
    {
      "cell_type": "code",
      "source": [
        "# Gráfico de dispersão\n",
        "plt.figure(figsize=(10, 6))\n",
        "plt.scatter(df['horsepower'], df['price'], alpha=0.5)\n",
        "plt.title('Gráfico de Dispersão - Preço vs Potência dos Motores')\n",
        "plt.xlabel('Potência (HP)')\n",
        "plt.ylabel('Preço')\n",
        "plt.show()"
      ],
      "metadata": {
        "id": "MsC0WtRk03wG"
      },
      "execution_count": null,
      "outputs": []
    },
    {
      "cell_type": "code",
      "source": [
        "# Gráfico de caixa\n",
        "plt.figure(figsize=(10, 6))\n",
        "df.boxplot(column=['price'], by=['make'], figsize=(14, 8), rot=90)\n",
        "plt.title('Gráfico de Caixa - Preço dos Carros por Marca')\n",
        "plt.xlabel('Marca')\n",
        "plt.ylabel('Preço')\n",
        "plt.show()"
      ],
      "metadata": {
        "id": "k0XdX7gk05T5"
      },
      "execution_count": null,
      "outputs": []
    },
    {
      "cell_type": "code",
      "source": [
        "# Gráfico de pizza\n",
        "plt.figure(figsize=(10, 6))\n",
        "df['fuel-system'].value_counts().plot(kind='pie', autopct='%1.1f%%')\n",
        "plt.title('Gráfico de Pizza - Distribuição dos Sistemas de Combustível')\n",
        "plt.ylabel('')\n",
        "plt.show()"
      ],
      "metadata": {
        "id": "dfuEFJ4a05rR"
      },
      "execution_count": null,
      "outputs": []
    }
  ]
}